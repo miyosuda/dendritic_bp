{
 "cells": [
  {
   "cell_type": "code",
   "execution_count": 1,
   "metadata": {},
   "outputs": [],
   "source": [
    "import numpy as np\n",
    "import matplotlib.pyplot as plt\n",
    "%matplotlib inline"
   ]
  },
  {
   "cell_type": "code",
   "execution_count": 2,
   "metadata": {},
   "outputs": [],
   "source": [
    "import os\n",
    "from model import Layer, LAYER_TYPE_BOTTOM, LAYER_TYPE_HIDDEN, LAYER_TYPE_TOP, LowPassFilter\n",
    "from option import Option"
   ]
  },
  {
   "cell_type": "code",
   "execution_count": 3,
   "metadata": {},
   "outputs": [],
   "source": [
    "class TargetNetwork(object):\n",
    "    def __init__(self):\n",
    "        self.w0 = np.random.uniform(-1, 1, size=(20,30))\n",
    "        self.w1 = np.random.uniform(-1, 1, size=(10,20))\n",
    "\n",
    "    def softplus(self, x):\n",
    "        return np.log(1.0 + np.exp(x))\n",
    "\n",
    "    def sigmoid(self, x):\n",
    "        return 1.0 / (1.0 + np.exp(-x))\n",
    "\n",
    "    def get_training_pair(self):\n",
    "        input_values = np.random.rand(30)\n",
    "        h0 = self.softplus(self.w0.dot(input_values))\n",
    "        target_values = self.sigmoid(self.w1.dot(h0))\n",
    "        return input_values, target_values\n",
    "        \n",
    "\n",
    "class Network(object):\n",
    "    def __init__(self, force_self_prediction=False):\n",
    "        option = Option()\n",
    "\n",
    "        self.layers = [None] * 3\n",
    "        self.layers[0] = Layer(pd_unit_size=30, \n",
    "                               layer_type=LAYER_TYPE_BOTTOM,\n",
    "                               option=option,\n",
    "                               force_self_prediction=force_self_prediction)\n",
    "        self.layers[1] = Layer(pd_unit_size=20,\n",
    "                               layer_type=LAYER_TYPE_HIDDEN,\n",
    "                               option=option,\n",
    "                               force_self_prediction=force_self_prediction)\n",
    "        self.layers[2] = Layer(pd_unit_size=10,\n",
    "                               layer_type=LAYER_TYPE_TOP,\n",
    "                               option=option,\n",
    "                               force_self_prediction=force_self_prediction)\n",
    "        \n",
    "        self.layers[0].connect_to(self.layers[1])\n",
    "        self.layers[1].connect_to(self.layers[2])\n",
    "\n",
    "    def update(self, dt):\n",
    "        for layer in self.layers:\n",
    "            layer.update_potential(dt)\n",
    "\n",
    "        for layer in self.layers:\n",
    "            layer.update_weight(dt)\n",
    "\n",
    "    def set_input_firing_rate(self, values):\n",
    "        self.layers[0].set_input_firing_rate(values)\n",
    "\n",
    "    def set_target_firing_rate(self, values):\n",
    "        self.layers[2].set_target_firing_rate(values)\n",
    "\n",
    "    def clear_target(self):\n",
    "        self.layers[2].clear_target()\n",
    "\n",
    "    def load(self, dir_name):\n",
    "        for i in range(2):\n",
    "            # Top層はLoadするものが無いので対象外\n",
    "            file_path = os.path.join(dir_name, \"layer{}\".format(i))\n",
    "            self.layers[i].load(file_path)\n",
    "\n",
    "        print(\"loaded: {}\".format(dir_name))        "
   ]
  },
  {
   "cell_type": "code",
   "execution_count": 6,
   "metadata": {},
   "outputs": [
    {
     "name": "stdout",
     "output_type": "stream",
     "text": [
      "weight loaded: saved/layer0.npz\n",
      "weight loaded: saved/layer1.npz\n",
      "loaded: saved\n"
     ]
    }
   ],
   "source": [
    "network = Network(force_self_prediction=True)\n",
    "target_network = TargetNetwork()\n",
    "    \n",
    "network.load(\"saved\")\n",
    "    \n",
    "dt = 0.1\n",
    "lp_filter = LowPassFilter(dt, 3)\n",
    "\n",
    "targets = []\n",
    "outputs = []\n",
    "\n",
    "for i in range(100):\n",
    "    input_values, target_values = target_network.get_training_pair()\n",
    "    for j in range(1000):\n",
    "        filtered_input_values = lp_filter.process(input_values)\n",
    "        network.set_input_firing_rate(filtered_input_values)\n",
    "        network.update(dt)\n",
    "        \n",
    "        targets.append(target_values[1])\n",
    "        outputs.append(network.layers[2].get_p_activation()[1]);\n",
    "    #print(\"target_r={}\".format(target_values))\n",
    "    #print(\"output_r={}\".format(network.layers[2].get_p_activation()))"
   ]
  },
  {
   "cell_type": "code",
   "execution_count": 7,
   "metadata": {},
   "outputs": [
    {
     "data": {
      "image/png": "[encoded data removed]",
      "text/plain": [
       "<Figure size 432x288 with 1 Axes>"
      ]
     },
     "metadata": {},
     "output_type": "display_data"
    }
   ],
   "source": [
    "plt.plot(outputs, label=\"output firing rate\")\n",
    "plt.plot(targets, label=\"target firing rate\")\n",
    "plt.legend()\n",
    "plt.show()"
   ]
  },
  {
   "cell_type": "code",
   "execution_count": null,
   "metadata": {},
   "outputs": [],
   "source": []
  }
 ],
 "metadata": {
  "kernelspec": {
   "display_name": "Python 3",
   "language": "python",
   "name": "python3"
  },
  "language_info": {
   "codemirror_mode": {
    "name": "ipython",
    "version": 3
   },
   "file_extension": ".py",
   "mimetype": "text/x-python",
   "name": "python",
   "nbconvert_exporter": "python",
   "pygments_lexer": "ipython3",
   "version": "3.6.5"
  }
 },
 "nbformat": 4,
 "nbformat_minor": 2
}
