{
 "cells": [
  {
   "cell_type": "code",
   "execution_count": 1,
   "metadata": {},
   "outputs": [],
   "source": [
    "import numpy as np\n",
    "import matplotlib.pyplot as plt\n",
    "%matplotlib inline\n",
    "import seaborn as sns"
   ]
  },
  {
   "cell_type": "code",
   "execution_count": 2,
   "metadata": {},
   "outputs": [],
   "source": [
    "import numpy as np\n",
    "import os\n",
    "\n",
    "from model import Layer, LAYER_TYPE_BOTTOM, LAYER_TYPE_HIDDEN, LAYER_TYPE_TOP, LowPassFilter\n",
    "from option import Option"
   ]
  },
  {
   "cell_type": "code",
   "execution_count": 3,
   "metadata": {},
   "outputs": [],
   "source": [
    "class Network(object):\n",
    "    def __init__(self):\n",
    "        option = Option()\n",
    "\n",
    "        self.layers = [None] * 3\n",
    "        self.layers[0] = Layer(pd_unit_size=30, layer_type=LAYER_TYPE_BOTTOM, option=option)\n",
    "        self.layers[1] = Layer(pd_unit_size=20, layer_type=LAYER_TYPE_HIDDEN, option=option)\n",
    "        self.layers[2] = Layer(pd_unit_size=10, layer_type=LAYER_TYPE_TOP,    option=option)\n",
    "        \n",
    "        self.layers[0].connect_to(self.layers[1])\n",
    "        self.layers[1].connect_to(self.layers[2])\n",
    "\n",
    "        self.set_self_prediction_mode()\n",
    "\n",
    "    def set_self_prediction_mode(self):\n",
    "        # Pyramidalのweightは更新しない\n",
    "        for layer in self.layers:\n",
    "            layer.train_w_pp_bu = False\n",
    "            layer.train_w_pp_td = False\n",
    "            layer.train_w_ip = True\n",
    "            layer.train_w_pi = True\n",
    "\n",
    "        for i,layer in enumerate(self.layers):\n",
    "            option = Option.get_self_prediction_option(i)\n",
    "            layer.set_option(option)\n",
    "\n",
    "    def set_target_prediction_mode(self):\n",
    "        # Pyramidalのweightを更新する\n",
    "        for layer in self.layers:\n",
    "            layer.train_w_pp_bu = True\n",
    "            layer.train_w_pp_td = False # TopDownのWeightは固定\n",
    "            layer.train_w_ip = True\n",
    "            layer.train_w_pi = True\n",
    "\n",
    "        for i,layer in enumerate(self.layers):\n",
    "            option = Option.get_target_prediction_option(i)\n",
    "            layer.set_option(option)\n",
    "\n",
    "    def update(self, dt):\n",
    "        for layer in self.layers:\n",
    "            layer.update_potential(dt)\n",
    "\n",
    "        for layer in self.layers:\n",
    "            layer.update_weight(dt)\n",
    "\n",
    "    def set_input_firing_rate(self, values):\n",
    "        self.layers[0].set_input_firing_rate(values)\n",
    "\n",
    "    def set_target_firing_rate(self, values):\n",
    "        self.layers[2].set_target_firing_rate(values)\n",
    "\n",
    "    def clear_target(self):\n",
    "        self.layers[2].clear_target()\n",
    "\n",
    "    def save(self, dir_name):\n",
    "        if not os.path.exists(dir_name):\n",
    "            os.makedirs(dir_name)\n",
    "\n",
    "        for i in range(2):\n",
    "            # Top層はSaveするものが無いので対象外\n",
    "            file_path = os.path.join(dir_name, \"layer{}\".format(i))\n",
    "            self.layers[i].save(file_path)\n",
    "\n",
    "        print(\"saved: {}\".format(dir_name))\n",
    "\n",
    "    def load(self, dir_name):\n",
    "        for i in range(2):\n",
    "            # Top層はLoadするものが無いので対象外\n",
    "            file_path = os.path.join(dir_name, \"layer{}\".format(i))\n",
    "            self.layers[i].load(file_path)\n",
    "\n",
    "        print(\"loaded: {}\".format(dir_name))"
   ]
  },
  {
   "cell_type": "code",
   "execution_count": 11,
   "metadata": {},
   "outputs": [
    {
     "name": "stdout",
     "output_type": "stream",
     "text": [
      "weight loaded: saved/layer0.npz\n",
      "weight loaded: saved/layer1.npz\n",
      "loaded: saved\n"
     ]
    }
   ],
   "source": [
    "np.random.seed(seed=0)\n",
    "save_dir = \"saved\"\n",
    "    \n",
    "network = Network()\n",
    "network.load(save_dir)"
   ]
  },
  {
   "cell_type": "code",
   "execution_count": 12,
   "metadata": {},
   "outputs": [],
   "source": [
    "network.set_target_prediction_mode()\n",
    "\n",
    "dt = 0.1\n",
    "lp_filter = LowPassFilter(dt, 3)\n",
    "\n",
    "target_values = np.random.rand(10)\n",
    "values = np.random.rand(30)\n",
    "\n",
    "train_iteration = 200\n",
    "\n",
    "erros = []\n",
    "\n",
    "u_targets = []\n",
    "u_outputs = []\n",
    "\n",
    "for i in range(train_iteration):\n",
    "    for j in range(1000):\n",
    "        filtered_values = lp_filter.process(values)\n",
    "        network.set_target_firing_rate(target_values)\n",
    "        network.set_input_firing_rate(filtered_values)\n",
    "        network.update(dt)\n",
    "            \n",
    "        error = np.mean(network.layers[1].v_p_a)\n",
    "        u_target = network.layers[2].u_target[0]\n",
    "        u_p = network.layers[2].u_p[0]\n",
    "        \n",
    "        erros.append(error)\n",
    "        u_targets.append(u_target)\n",
    "        u_outputs.append(u_p)\n",
    "\n",
    "network.clear_target()\n",
    "\n",
    "for i in range(100):\n",
    "    for j in range(1000):\n",
    "        filtered_values = lp_filter.process(values)\n",
    "        network.set_input_firing_rate(filtered_values)\n",
    "        network.update(dt)\n",
    "        \n",
    "        u_p = network.layers[2].u_p[0]\n",
    "        u_outputs.append(u_p)"
   ]
  },
  {
   "cell_type": "code",
   "execution_count": 13,
   "metadata": {},
   "outputs": [
    {
     "data": {
      "image/png": "[encoded data removed]",
      "text/plain": [
       "<Figure size 432x288 with 1 Axes>"
      ]
     },
     "metadata": {},
     "output_type": "display_data"
    }
   ],
   "source": [
    "plt.plot(erros, label=\"apical error\")\n",
    "plt.legend()\n",
    "plt.show()"
   ]
  },
  {
   "cell_type": "code",
   "execution_count": 14,
   "metadata": {},
   "outputs": [
    {
     "data": {
      "image/png": "[encoded data removed]",
      "text/plain": [
       "<Figure size 432x288 with 1 Axes>"
      ]
     },
     "metadata": {},
     "output_type": "display_data"
    }
   ],
   "source": [
    "plt.plot(u_outputs, label=\"output potential\")\n",
    "plt.plot(u_targets, label=\"target potential\")\n",
    "plt.legend()\n",
    "plt.show()"
   ]
  },
  {
   "cell_type": "code",
   "execution_count": null,
   "metadata": {},
   "outputs": [],
   "source": []
  }
 ],
 "metadata": {
  "kernelspec": {
   "display_name": "Python 3",
   "language": "python",
   "name": "python3"
  },
  "language_info": {
   "codemirror_mode": {
    "name": "ipython",
    "version": 3
   },
   "file_extension": ".py",
   "mimetype": "text/x-python",
   "name": "python",
   "nbconvert_exporter": "python",
   "pygments_lexer": "ipython3",
   "version": "3.6.5"
  }
 },
 "nbformat": 4,
 "nbformat_minor": 2
}
